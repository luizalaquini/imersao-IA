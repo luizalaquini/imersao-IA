{
 "cells": [
  {
   "cell_type": "markdown",
   "metadata": {},
   "source": [
    "# Chatbot\n",
    "Aula 4: Criando seu próprio chatbot com a Gemini API no Google Colab."
   ]
  },
  {
   "cell_type": "markdown",
   "metadata": {},
   "source": [
    "### Configurações iniciais"
   ]
  },
  {
   "cell_type": "code",
   "execution_count": 20,
   "metadata": {},
   "outputs": [],
   "source": [
    "import google.generativeai as genai\n",
    "\n",
    "GOOGLE_API_KEY=input(\"Enter your Google API Key: \");\n",
    "genai.configure(api_key=GOOGLE_API_KEY)"
   ]
  },
  {
   "cell_type": "code",
   "execution_count": 21,
   "metadata": {},
   "outputs": [
    {
     "name": "stdout",
     "output_type": "stream",
     "text": [
      "models/gemini-1.0-pro\n",
      "models/gemini-1.0-pro-001\n",
      "models/gemini-1.0-pro-latest\n",
      "models/gemini-1.0-pro-vision-latest\n",
      "models/gemini-1.5-pro-latest\n",
      "models/gemini-pro\n",
      "models/gemini-pro-vision\n"
     ]
    }
   ],
   "source": [
    "#Listando os modelos disponíveis\n",
    "for model in genai.list_models():\n",
    "  if 'generateContent' in model.supported_generation_methods:\n",
    "    print(model.name)"
   ]
  },
  {
   "cell_type": "code",
   "execution_count": 22,
   "metadata": {},
   "outputs": [],
   "source": [
    "generation_config = {\n",
    "  \"candidate_count\": 1,\n",
    "  \"temperature\": 0.6,\n",
    "}\n",
    "\n",
    "# Options: 'BLOCK_NONE', 'BLOCK_FEW', 'BLOCK_SOME' 'BLOCK_MOST'\n",
    "safety_settings={\n",
    "  'HATE': 'BLOCK_NONE',\n",
    "  'HARASSMENT': 'BLOCK_NONE',\n",
    "  'SEXUAL' : 'BLOCK_NONE',\n",
    "  'DANGEROUS' : 'BLOCK_NONE'\n",
    "}\n"
   ]
  },
  {
   "cell_type": "markdown",
   "metadata": {},
   "source": [
    "### Inicializando o modelo"
   ]
  },
  {
   "cell_type": "code",
   "execution_count": 23,
   "metadata": {},
   "outputs": [],
   "source": [
    "model = genai.GenerativeModel(model_name='gemini-1.0-pro',\n",
    "                                  generation_config=generation_config,\n",
    "                                  safety_settings=safety_settings,)"
   ]
  },
  {
   "cell_type": "code",
   "execution_count": 24,
   "metadata": {},
   "outputs": [
    {
     "data": {
      "text/plain": [
       "'**Conceitos Fundamentais de IA**\\n\\n* Definição e história da IA\\n* Tipos de IA: aprendizado de máquina, aprendizado profundo, aprendizado por reforço\\n* Algoritmos e técnicas comuns de IA\\n* Aplicações da IA em vários setores\\n\\n**Aprendizado de Máquina**\\n\\n* Tipos de aprendizado de máquina: supervisionado, não supervisionado, por reforço\\n* Algoritmos de aprendizado de máquina: regressão, classificação, agrupamento\\n* Avaliação e ajuste de modelos de aprendizado de máquina\\n* Estudos de caso de aplicações de aprendizado de máquina\\n\\n**Aprendizado Profundo**\\n\\n* Conceitos de redes neurais e aprendizado profundo\\n* Arquiteturas de redes neurais: convolucionais, recorrentes, transformadores\\n* Treinamento e otimização de modelos de aprendizado profundo\\n* Aplicações de aprendizado profundo em visão computacional, processamento de linguagem natural e muito mais\\n\\n**Aprendizado por Reforço**\\n\\n* Noções básicas de aprendizado por reforço\\n* Algoritmos de aprendizado por reforço: Q-learning, SARSA, PPO\\n* Aplicações de aprendizado por reforço em jogos, robótica e automação\\n\\n**Ética e Implicações da IA**\\n\\n* Preocupações éticas com a IA: viés, privacidade, segurança\\n* Implicações sociais e econômicas da IA\\n* Diretrizes e regulamentações para o desenvolvimento e uso responsável da IA\\n\\n**Recursos de Aprendizagem**\\n\\n* Cursos online: Coursera, edX, Udacity\\n* Livros: \"Inteligência Artificial: Uma Abordagem Moderna\", \"Aprendizado de Máquina\", \"Aprendizado Profundo\"\\n* Comunidades online: Stack Overflow, Reddit (r/machinelearning, r/deeplearning)\\n* Conferências e workshops: NeurIPS, ICML, CVPR'"
      ]
     },
     "execution_count": 24,
     "metadata": {},
     "output_type": "execute_result"
    }
   ],
   "source": [
    "# Teste\n",
    "response = model.generate_content(\"Vamos aprender conteúdo sobre IA. Me dê sugestões.\")\n",
    "response.text # Experimente printar somente response"
   ]
  },
  {
   "cell_type": "markdown",
   "metadata": {},
   "source": [
    "### Chatbot"
   ]
  },
  {
   "cell_type": "code",
   "execution_count": null,
   "metadata": {},
   "outputs": [
    {
     "name": "stdout",
     "output_type": "stream",
     "text": [
      "Resposta: 1. Cerveja\n",
      "2. Vinho\n",
      "3. Vodka\n",
      "4. Uísque\n",
      "5. Rum \n",
      "\n",
      "\n",
      "Resposta: As cinco comidas mais consumidas no mundo são:\n",
      "\n",
      "1. Arroz\n",
      "2. Trigo\n",
      "3. Milho\n",
      "4. Batata\n",
      "5. Mandioca \n",
      "\n",
      "\n",
      "Resposta: As cinco frutas mais consumidas no mundo são:\n",
      "\n",
      "1. Banana\n",
      "2. Maçã\n",
      "3. Uva\n",
      "4. Laranja\n",
      "5. Manga \n",
      "\n",
      "\n"
     ]
    }
   ],
   "source": [
    "chat = model.start_chat(history=[])\n",
    "\n",
    "prompt = input('Esperando prompt: ')\n",
    "\n",
    "while prompt != \"fim\":\n",
    "  response = chat.send_message(prompt)\n",
    "  print(\"Resposta:\", response.text, '\\n\\n')\n",
    "  prompt = input('Esperando prompt: ')"
   ]
  },
  {
   "cell_type": "code",
   "execution_count": null,
   "metadata": {},
   "outputs": [
    {
     "data": {
      "text/markdown": [
       "> **user**: Quais as cinco bebidas alcoolicas mais consumidas no mundo?"
      ],
      "text/plain": [
       "<IPython.core.display.Markdown object>"
      ]
     },
     "metadata": {},
     "output_type": "display_data"
    },
    {
     "data": {
      "text/markdown": [
       "> **model**: 1. Cerveja\n",
       "> 2. Vinho\n",
       "> 3. Vodka\n",
       "> 4. Uísque\n",
       "> 5. Rum"
      ],
      "text/plain": [
       "<IPython.core.display.Markdown object>"
      ]
     },
     "metadata": {},
     "output_type": "display_data"
    },
    {
     "data": {
      "text/markdown": [
       "> **user**: E as comidas?"
      ],
      "text/plain": [
       "<IPython.core.display.Markdown object>"
      ]
     },
     "metadata": {},
     "output_type": "display_data"
    },
    {
     "data": {
      "text/markdown": [
       "> **model**: As cinco comidas mais consumidas no mundo são:\n",
       "> \n",
       "> 1. Arroz\n",
       "> 2. Trigo\n",
       "> 3. Milho\n",
       "> 4. Batata\n",
       "> 5. Mandioca"
      ],
      "text/plain": [
       "<IPython.core.display.Markdown object>"
      ]
     },
     "metadata": {},
     "output_type": "display_data"
    },
    {
     "data": {
      "text/markdown": [
       "> **user**: E as frutas?"
      ],
      "text/plain": [
       "<IPython.core.display.Markdown object>"
      ]
     },
     "metadata": {},
     "output_type": "display_data"
    },
    {
     "data": {
      "text/markdown": [
       "> **model**: As cinco frutas mais consumidas no mundo são:\n",
       "> \n",
       "> 1. Banana\n",
       "> 2. Maçã\n",
       "> 3. Uva\n",
       "> 4. Laranja\n",
       "> 5. Manga"
      ],
      "text/plain": [
       "<IPython.core.display.Markdown object>"
      ]
     },
     "metadata": {},
     "output_type": "display_data"
    }
   ],
   "source": [
    "#Melhorando a visualização\n",
    "#Código disponível em https://ai.google.dev/tutorials/python_quickstart#import_packages\n",
    "import textwrap\n",
    "from IPython.display import display\n",
    "from IPython.display import Markdown\n",
    "\n",
    "def to_markdown(text):\n",
    "  text = text.replace('•', '  *')\n",
    "  return Markdown(textwrap.indent(text, '> ', predicate=lambda _: True))\n",
    "\n",
    "#Imprimindo o histórico\n",
    "for message in chat.history:\n",
    "  display(to_markdown(f'**{message.role}**: {message.parts[0].text}'))"
   ]
  },
  {
   "cell_type": "markdown",
   "metadata": {},
   "source": [
    "## Vale lembrar:\n",
    "\n",
    "Toda informação trocada com o Gemini - seja em forma de prompt ou documento - pode ser acessada pelo Google. Portanto, tenha cuidado com informações confidenciais, sigilosas, dados pessoais e propriedades intelectuais."
   ]
  }
 ],
 "metadata": {
  "kernelspec": {
   "display_name": "Python 3",
   "language": "python",
   "name": "python3"
  },
  "language_info": {
   "codemirror_mode": {
    "name": "ipython",
    "version": 3
   },
   "file_extension": ".py",
   "mimetype": "text/x-python",
   "name": "python",
   "nbconvert_exporter": "python",
   "pygments_lexer": "ipython3",
   "version": "3.10.2"
  }
 },
 "nbformat": 4,
 "nbformat_minor": 2
}
